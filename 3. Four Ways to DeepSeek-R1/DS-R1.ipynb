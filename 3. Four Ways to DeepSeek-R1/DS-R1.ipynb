{
 "cells": [
  {
   "cell_type": "code",
   "execution_count": null,
   "id": "e6148da6-6bb6-476a-b043-eeb7c8df5cc6",
   "metadata": {},
   "outputs": [],
   "source": [
    "!pip install langchain-ollama"
   ]
  },
  {
   "cell_type": "code",
   "execution_count": 3,
   "id": "bcfb4474-e7b0-4d0e-9ca5-63459ae56135",
   "metadata": {},
   "outputs": [],
   "source": [
    "from langchain_ollama import OllamaLLM"
   ]
  },
  {
   "cell_type": "code",
   "execution_count": 4,
   "id": "74a5012e-11bf-4fd3-8352-a0bb79d47afb",
   "metadata": {},
   "outputs": [],
   "source": [
    "llm = OllamaLLM(model=\"deepseek-r1:32b\", temperature=1.0)"
   ]
  },
  {
   "cell_type": "code",
   "execution_count": 6,
   "id": "2c94d32b-22ac-478a-8473-e88bee9e02aa",
   "metadata": {},
   "outputs": [],
   "source": [
    "response = llm.invoke(\"Is 7 a prime number?\")"
   ]
  },
  {
   "cell_type": "code",
   "execution_count": null,
   "id": "947972d7-b21b-4e16-a5c9-367f0b580087",
   "metadata": {},
   "outputs": [],
   "source": [
    "print(response)"
   ]
  },
  {
   "cell_type": "code",
   "execution_count": 9,
   "id": "7fd2b967-0351-43d1-8d06-4419e02fe16e",
   "metadata": {},
   "outputs": [],
   "source": [
    "import re\n",
    "\n",
    "def clean_str (text: str):\n",
    "    test = re.sub(r'<think>.*?</think>','',text, flags=re.DOTALL)\n",
    "    return test"
   ]
  },
  {
   "cell_type": "code",
   "execution_count": null,
   "id": "f9ed0060-ec4d-4c6d-80e2-611fe0869901",
   "metadata": {},
   "outputs": [],
   "source": [
    "print(clean_str(response).strip())"
   ]
  },
  {
   "cell_type": "code",
   "execution_count": 13,
   "id": "90d72671-9e7a-4dad-866e-1e11c91b7609",
   "metadata": {},
   "outputs": [],
   "source": [
    "from config import openai_api_key, api_key"
   ]
  },
  {
   "cell_type": "code",
   "execution_count": null,
   "id": "966544c2-c62c-47ed-9f13-d734a0d062a8",
   "metadata": {},
   "outputs": [],
   "source": [
    "from openai import OpenAI\n",
    "\n",
    "client = OpenAI(base_url=\"https://openrouter.ai/api/v1\", api_key = api_key)\n",
    "\n",
    "completion = client.chat.completions.create(\n",
    "  model=\"deepseek/deepseek-r1:nitro\",\n",
    "  messages=[\n",
    "    {\"role\": \"developer\", \"content\": \"You are a helpful assistant.\"},\n",
    "    {\"role\": \"user\", \"content\": \"Is 7 a prime number?\"}\n",
    "  ]\n",
    ")\n",
    "\n",
    "response = completion.choices[0].message\n",
    "\n",
    "print(response.content)"
   ]
  },
  {
   "cell_type": "code",
   "execution_count": null,
   "id": "8f237938-9a00-4c9d-a927-62eb2b5ebd11",
   "metadata": {},
   "outputs": [],
   "source": []
  }
 ],
 "metadata": {
  "kernelspec": {
   "display_name": "Python [conda env:freshllm]",
   "language": "python",
   "name": "conda-env-freshllm-py"
  },
  "language_info": {
   "codemirror_mode": {
    "name": "ipython",
    "version": 3
   },
   "file_extension": ".py",
   "mimetype": "text/x-python",
   "name": "python",
   "nbconvert_exporter": "python",
   "pygments_lexer": "ipython3",
   "version": "3.9.21"
  }
 },
 "nbformat": 4,
 "nbformat_minor": 5
}
