{
 "cells": [
  {
   "cell_type": "code",
   "execution_count": 1,
   "id": "f59e2308-0014-46e2-800b-718b75491c0e",
   "metadata": {},
   "outputs": [
    {
     "name": "stdout",
     "output_type": "stream",
     "text": [
      "Staring at the contents of your fridge but never deciding what to eat is a cool way to diet\n"
     ]
    }
   ],
   "source": [
    "sample_1 = \"Staring at the contents of your fridge but never deciding what to eat is a cool way to diet\"\n",
    "print(sample_1)"
   ]
  },
  {
   "cell_type": "code",
   "execution_count": 8,
   "id": "117b122f-c765-4cee-a1c6-2196bd310c8d",
   "metadata": {},
   "outputs": [],
   "source": [
    "import ollama\n",
    "from pydantic import BaseModel, Field, ValidationError\n",
    "\n",
    "class SarcasmClassifier(BaseModel):\n",
    "    class_label: str = Field(\n",
    "        description=\"\"\"Label indicating whether the tweet is sarcastic or non_sarcastic.\n",
    "            Possible values: 'sarcastic', 'non_sarcastic'.\"\"\"\n",
    "    )\n",
    "    sarcasm_type: str = Field(\n",
    "        description=\"\"\"Type of speech present in the tweet if it is sarcastic.\n",
    "            Possible values: 'sarcasm', 'irony', 'satire', 'understatement',\n",
    "            'overstatement', 'rhetorical_question'. Should be null if class_label is 'non_sarcastic'.\"\"\"\n",
    "    )\n",
    "    justification: str = Field(\n",
    "        description=\"\"\"Explain in brief, why the tweet is sarcastic or non-sarcastic.\n",
    "        If sarcastic, explain why you chose this specific type of ironic speech.\"\"\"\n",
    "    )"
   ]
  },
  {
   "cell_type": "code",
   "execution_count": 9,
   "id": "c56ec541-bc3f-47d9-ab7d-ce2d98d61093",
   "metadata": {},
   "outputs": [],
   "source": [
    "system_prompt = \"\"\"\n",
    "You are an expert linguist specializing in analyzing ironic speech and sarcasm in social media communication.\n",
    "Your task is to analyze tweets and:\n",
    "1. Classify them as either sarcastic or non_sarcastic\n",
    "2. For sarcastic tweets, identify the specific type of ironic speech being used\n",
    "3. Provide a brief explanation for your classification results\n",
    "\n",
    "Consider these definitions carefully when making your classifications:\n",
    "\n",
    "Types of Ironic Speech:\n",
    "- Sarcasm: Statements that contradict the state of affairs and contain explicit or implicit criticism of an addressee\n",
    "- Irony: Statements that contradict the state of affairs but lack obvious criticism towards any particular addressee\n",
    "- Satire: Statements that superficially appear supportive but contain underlying mockery or disagreement\n",
    "- Understatement: Statements that deliberately minimize or underplay the significance of a situation\n",
    "- Overstatement: Statements that use obvious exaggeration to describe a situation\n",
    "- Rhetorical Question: Questions whose implied answer contradicts the actual state of affairs\n",
    "\n",
    "Follow these steps for analysis:\n",
    "1. First, determine if the tweet contains any form of ironic speech\n",
    "2. If yes, label it as \"sarcastic\" and identify the specific type\n",
    "3. If no, label it as \"non_sarcastic\"\n",
    "4. Provide reasoning for your labelling.\n",
    "\n",
    "Return only the classification label, sarcasm type (if applicable), and justification. Do Not provide any additional text.\n",
    "\"\"\"\n",
    "user_prompt = \"\"\"\n",
    "Please analyze the following tweet and classify it according to the system above:\n",
    "\n",
    "Tweet to classify: {tweet_sample}\n",
    "\"\"\""
   ]
  },
  {
   "cell_type": "code",
   "execution_count": 10,
   "id": "858c432a-6573-42a1-993f-156ad110f9b1",
   "metadata": {},
   "outputs": [],
   "source": [
    "def extract_info(tweet):\n",
    "    response = ollama.chat(\n",
    "        model=\"llama3.2\",\n",
    "        messages=[\n",
    "            {\n",
    "                \"role\": \"system\",\n",
    "                \"content\": system_prompt\n",
    "            },\n",
    "            {\n",
    "                \"role\": \"user\",\n",
    "                \"content\": user_prompt.format(tweet_sample = tweet)\n",
    "            }\n",
    "        ],\n",
    "        options = {\"temperature\": 0.0},\n",
    "        format = SarcasmClassifier.model_json_schema()\n",
    "    )\n",
    "\n",
    "    try:\n",
    "        person_info = SarcasmClassifier.model_validate_json(response.message.content)\n",
    "        return person_info\n",
    "    except ValidationError as e:\n",
    "        print(f\"Error: {e}\")\n",
    "        return None"
   ]
  },
  {
   "cell_type": "code",
   "execution_count": 11,
   "id": "4f9106f5-cd56-4ee8-bb1d-4b7c4a220a7a",
   "metadata": {},
   "outputs": [],
   "source": [
    "p2_res = extract_info(sample_1)"
   ]
  },
  {
   "cell_type": "code",
   "execution_count": 12,
   "id": "f6d200fd-9b34-4929-8c4d-8e81f3afd2ab",
   "metadata": {},
   "outputs": [
    {
     "data": {
      "text/plain": [
       "SarcasmClassifier(class_label='sarcastic', sarcasm_type='irony', justification=\"The tweet states that staring at the fridge contents is a 'cool' way to diet, which contradicts the typical expectation of dieting being about making healthy choices. The tone implies criticism towards the idea of using this method.\")"
      ]
     },
     "execution_count": 12,
     "metadata": {},
     "output_type": "execute_result"
    }
   ],
   "source": [
    "p2_res"
   ]
  },
  {
   "cell_type": "code",
   "execution_count": null,
   "id": "0cdbd458-d888-4cea-b0e4-f8863c638cf4",
   "metadata": {},
   "outputs": [],
   "source": []
  }
 ],
 "metadata": {
  "kernelspec": {
   "display_name": "Python [conda env:freshllm]",
   "language": "python",
   "name": "conda-env-freshllm-py"
  },
  "language_info": {
   "codemirror_mode": {
    "name": "ipython",
    "version": 3
   },
   "file_extension": ".py",
   "mimetype": "text/x-python",
   "name": "python",
   "nbconvert_exporter": "python",
   "pygments_lexer": "ipython3",
   "version": "3.9.21"
  }
 },
 "nbformat": 4,
 "nbformat_minor": 5
}
