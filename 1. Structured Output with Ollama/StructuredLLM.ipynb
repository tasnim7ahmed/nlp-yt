{
 "cells": [
  {
   "cell_type": "code",
   "execution_count": 1,
   "id": "80b58285-ce99-4921-930c-8670038ff47c",
   "metadata": {
    "editable": true,
    "slideshow": {
     "slide_type": ""
    },
    "tags": []
   },
   "outputs": [],
   "source": [
    "paragraph_1 = \"\"\"\n",
    "Durefishan Saleem (born 03 January 1996) is a Pakistani actress of Punjabi descent who appears on Urdu television.\n",
    "She made her acting debut in 2020 with a supporting role in the drama serial Dil Ruba and soon went on to star in Bhaaras,\n",
    "where she received an ARY People’s Choice Award. \n",
    "Born in Lahore, Punjab, to Saleem-ul-Hassan (a director and producer for PTV in the 2000s),\n",
    "she obtained her LLB from University College London before moving to Karachi in 2019 to pursue acting.\n",
    "Her performances in Pardes (with Affan Waheed) and Juda Huay Kuch Is Tarha further established her,\n",
    "and she gained wider recognition with her leading role in Kaisi Teri Khudgarzi (2022) opposite Danish Taimoor,\n",
    "followed by Ishq Murshid (2023). \n",
    "Durefishan also appeared in Jurm alongside Wahaj Ali, the anthology series Siyaah, and the social drama Jaisay Aapki Marzi \n",
    "opposite Mikaal Zulfiqar. She was reportedly offered a role in Jhok Sarkar with Farhan Saeed, portrayed Shibra Sulaiman in \n",
    "Ishq Murshid opposite Bilal Abbas Khan, starred in the 2024 revenge-thriller Khaie with Faysal Quraishi, and is set to appear \n",
    "in Sanwal Yaar Piya (2025) with Feroze Khan and Ahmed Ali Akbar, marking their first on-screen collaboration.\n",
    "\"\"\"\n",
    "\n",
    "paragraph_2 = \"\"\"\n",
    "Bilal Abbas Khan, born on 4 June 1993 in Karachi to a Pathan family, discovered his passion for acting at Lawrence College in Murree,\n",
    "later earning a degree in marketing from the Shaheed Zulfikar Ali Bhutto Institute of Science and Technology before formally studying\n",
    "acting at the National Academy of Performing Arts. Known for his boy-next-door portrayals, Bilal gained recognition through projects\n",
    "like *Dumpukht - Aatish-e-Ishq*, *O Rangreza*, *Balaa*, *Cheekh*, and the telefilm *Laal*, eventually solidifying his star status with\n",
    "hits such as *Pyar Ke Sadqay*, *Dobara*, and *Khel Khel Mein*, winning three Lux Style Awards along the way. Meanwhile, Durefishan Saleem,\n",
    "born on 03 January 1996 in Lahore, comes from a creative background—her father Saleem-ul-Hassan was a director and producer for PTV—and\n",
    "she earned an LLB from University College London before moving to Karachi in 2019 to pursue acting. Following her 2020 supporting debut\n",
    "in *Dil Ruba*, she won an ARY People’s Choice Award for *Bhaaras* and went on to star in *Pardes*, *Juda Huay Kuch Is Tarha*, \n",
    "*Kaisi Teri Khudgarzi*, *Jurm*, *Siyaah*, *Jaisay Aapki Marzi*, and the 2024 revenge-thriller *Khaie*. In 2023, Bilal and Durefishan \n",
    "joined forces in *Ishq Murshid*, a romantic, light-hearted series directed by Farooq Rind and produced by Moomal Entertainment and \n",
    "MD Productions. Despite mixed reviews for its plot and characters, the show earned a record-breaking TRP rating of 22.3 on Hum TV,\n",
    "further propelling both actors’ careers and sparking speculation about a potential second season.\n",
    "\"\"\""
   ]
  },
  {
   "cell_type": "code",
   "execution_count": null,
   "id": "ba83f610-09be-4965-aae0-7df95e023692",
   "metadata": {},
   "outputs": [],
   "source": [
    "!pip install -q ollama pydantic"
   ]
  },
  {
   "cell_type": "code",
   "execution_count": 11,
   "id": "69e3d3b7-65d7-44a3-89cf-145abeb2b12f",
   "metadata": {
    "editable": true,
    "slideshow": {
     "slide_type": ""
    },
    "tags": []
   },
   "outputs": [],
   "source": [
    "import ollama\n",
    "from pydantic import BaseModel, Field, ValidationError\n",
    "from typing import List"
   ]
  },
  {
   "cell_type": "code",
   "execution_count": 3,
   "id": "ca16c119-8f87-456e-824b-16b01ed5ab8c",
   "metadata": {},
   "outputs": [],
   "source": [
    "class Person(BaseModel):\n",
    "    name: str = Field(description=\"The full name of the person.\")\n",
    "    birthday: str = Field(description=\"The birthday of a person, e.g., 'DD-MM-YYYY' or any recognized date format.\")"
   ]
  },
  {
   "cell_type": "code",
   "execution_count": 12,
   "id": "654f2f95-d0fe-48d6-8a02-d7af877d8841",
   "metadata": {},
   "outputs": [],
   "source": [
    "class PersonList(BaseModel):\n",
    "    persons: List[Person] = Field(description=\"A list of persons, each having a name and birthday.\")"
   ]
  },
  {
   "cell_type": "code",
   "execution_count": 14,
   "id": "f74621f0-9bd2-4a3a-94fc-2bed20b84ff2",
   "metadata": {},
   "outputs": [
    {
     "data": {
      "text/plain": [
       "{'$defs': {'Person': {'properties': {'name': {'description': 'The full name of the person.',\n",
       "     'title': 'Name',\n",
       "     'type': 'string'},\n",
       "    'birthday': {'description': \"The birthday of a person, e.g., 'DD-MM-YYYY' or any recognized date format.\",\n",
       "     'title': 'Birthday',\n",
       "     'type': 'string'}},\n",
       "   'required': ['name', 'birthday'],\n",
       "   'title': 'Person',\n",
       "   'type': 'object'}},\n",
       " 'properties': {'persons': {'description': 'A list of persons, each having a name and birthday.',\n",
       "   'items': {'$ref': '#/$defs/Person'},\n",
       "   'title': 'Persons',\n",
       "   'type': 'array'}},\n",
       " 'required': ['persons'],\n",
       " 'title': 'PersonList',\n",
       " 'type': 'object'}"
      ]
     },
     "execution_count": 14,
     "metadata": {},
     "output_type": "execute_result"
    }
   ],
   "source": [
    "PersonList.model_json_schema()"
   ]
  },
  {
   "cell_type": "code",
   "execution_count": 15,
   "id": "4cc347af-8476-4189-a5fa-359f24991c35",
   "metadata": {
    "editable": true,
    "slideshow": {
     "slide_type": ""
    },
    "tags": []
   },
   "outputs": [],
   "source": [
    "def extract_info(text):\n",
    "    response = ollama.chat(\n",
    "        model=\"llama3.2\",\n",
    "        messages=[\n",
    "            {\n",
    "                \"role\": \"system\",\n",
    "                \"content\": \"You are an assistant that extracts a list of persons' names and birthdays from a given paragraph.\"\n",
    "            },\n",
    "            {\n",
    "                \"role\": \"user\",\n",
    "                \"content\": text\n",
    "            }\n",
    "        ],\n",
    "        options = {\"temperature\": 0.0},\n",
    "        format = PersonList.model_json_schema()\n",
    "    )\n",
    "\n",
    "    try:\n",
    "        person_info = PersonList.model_validate_json(response.message.content)\n",
    "        return person_info\n",
    "    except ValidationError as e:\n",
    "        print(f\"Error: {e}\")\n",
    "        return None"
   ]
  },
  {
   "cell_type": "code",
   "execution_count": 16,
   "id": "2a854594-c7c0-494e-b4d4-c89c834ca34a",
   "metadata": {},
   "outputs": [],
   "source": [
    "p2_res = extract_info(paragraph_2)"
   ]
  },
  {
   "cell_type": "code",
   "execution_count": 17,
   "id": "4e5b1f04-e815-4fa8-9e3a-44f86d1bc85c",
   "metadata": {},
   "outputs": [
    {
     "data": {
      "text/plain": [
       "PersonList(persons=[Person(name='Bilal Abbas Khan', birthday='4 June 1993'), Person(name='Durefishan Saleem', birthday='03 January 1996')])"
      ]
     },
     "execution_count": 17,
     "metadata": {},
     "output_type": "execute_result"
    }
   ],
   "source": [
    "p2_res"
   ]
  },
  {
   "cell_type": "code",
   "execution_count": 18,
   "id": "be23dd83-0c03-40b5-afaa-de591c1a7312",
   "metadata": {},
   "outputs": [
    {
     "data": {
      "text/plain": [
       "__main__.PersonList"
      ]
     },
     "execution_count": 18,
     "metadata": {},
     "output_type": "execute_result"
    }
   ],
   "source": [
    "type(p2_res)"
   ]
  },
  {
   "cell_type": "code",
   "execution_count": 22,
   "id": "161913f9-e9da-41b4-a272-49c393caef5b",
   "metadata": {},
   "outputs": [
    {
     "name": "stdout",
     "output_type": "stream",
     "text": [
      "<class '__main__.Person'>\n",
      "<class '__main__.Person'>\n"
     ]
    }
   ],
   "source": [
    "for per in p2_res.persons:\n",
    "    print(type(per))"
   ]
  },
  {
   "cell_type": "code",
   "execution_count": 23,
   "id": "df9afd34-27b5-4d3e-aaa1-257d4fcbfe6a",
   "metadata": {},
   "outputs": [
    {
     "data": {
      "text/plain": [
       "list"
      ]
     },
     "execution_count": 23,
     "metadata": {},
     "output_type": "execute_result"
    }
   ],
   "source": [
    "type(p2_res.persons)"
   ]
  },
  {
   "cell_type": "code",
   "execution_count": null,
   "id": "673b4814-2fda-4700-af30-063a2258e664",
   "metadata": {},
   "outputs": [],
   "source": []
  }
 ],
 "metadata": {
  "kernelspec": {
   "display_name": "Python [conda env:freshllm]",
   "language": "python",
   "name": "conda-env-freshllm-py"
  },
  "language_info": {
   "codemirror_mode": {
    "name": "ipython",
    "version": 3
   },
   "file_extension": ".py",
   "mimetype": "text/x-python",
   "name": "python",
   "nbconvert_exporter": "python",
   "pygments_lexer": "ipython3",
   "version": "3.9.21"
  }
 },
 "nbformat": 4,
 "nbformat_minor": 5
}
